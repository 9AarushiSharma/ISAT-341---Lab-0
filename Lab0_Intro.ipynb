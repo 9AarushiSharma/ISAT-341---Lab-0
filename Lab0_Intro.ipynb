{
 "cells": [
  {
   "cell_type": "markdown",
   "id": "0fb2fd83",
   "metadata": {},
   "source": [
    "# ISAT 341 Machine Learning Lab 0"
   ]
  },
  {
   "cell_type": "markdown",
   "id": "d6a523eb",
   "metadata": {},
   "source": [
    "<center>\n",
    "<h1 style = \"color:blue\" \"align=center\" ;> ISAT 341 Data Science and Machine Learning </h1>\n",
    "</center>\n",
    "\n",
    "<img src = \"images/machine_learning.jpg\" width=200; height=200>"
   ]
  },
  {
   "cell_type": "markdown",
   "id": "1cafac3e",
   "metadata": {},
   "source": [
    "<h1 sytle = \"color:black\" ;> Quick Python Review and Introduction to Jupyter <br> Notebooks </h1>\n",
    "<h2> Objectives </h2>\n",
    "\n",
    "<ul>\n",
    "    <li> Introduction to <Strong>Jupyter Notebook</Strong> using the <em>Python Programming Language</em> </li>\n",
    "    <li> Introduction to <Strong >NumPy</Strong>, a Python package for scientific computing </li>\n",
    "    <li> Using <Strong>MatPlotLib</Strong> in your Jupyter Notebooks </li>\n",
    "</ul>"
   ]
  },
  {
   "cell_type": "markdown",
   "id": "7a56a52c",
   "metadata": {},
   "source": [
    "<h2> Markdown </h2>\n",
    "<p> This cell uses Markdown which you can find a quick reference at: <a href=\"https://www.Wordpress.com\">Wordpress.com</a> <br> (<a href=\"https://www.Wordpress.com\">Wordpress.com</a> ) Markdown lets you compose posts and comments with links, lists, <br> and other styles using regular characters and punctuation marks\n",
    "</p>"
   ]
  },
  {
   "cell_type": "markdown",
   "id": "97e01e0d",
   "metadata": {},
   "source": [
    "<h1> Jupyter Notebooks </h1>\n",
    "<p> Jupyter notebooks consist of a sequence of cells. Cells can contain code (for example Python), or <br> text. A selected cell can be executed by pressing <Strong>Shift-Enter</Strong>. </p>"
   ]
  },
  {
   "cell_type": "markdown",
   "id": "6112ad18",
   "metadata": {},
   "source": [
    "<h1> Power of Numbers </h1>\n",
    "<p> The following cell prints the first 7 square numbers. Execute it!</p>"
   ]
  },
  {
   "cell_type": "code",
   "execution_count": 1,
   "id": "57ea1b4c",
   "metadata": {},
   "outputs": [
    {
     "name": "stdout",
     "output_type": "stream",
     "text": [
      "0\n",
      "1\n",
      "4\n",
      "9\n",
      "16\n",
      "25\n",
      "36\n"
     ]
    }
   ],
   "source": [
    "for i in range(7):\n",
    "    print (i**2)"
   ]
  },
  {
   "cell_type": "markdown",
   "id": "4daf586c",
   "metadata": {},
   "source": [
    "<h3> Your turn! </h3>\n",
    "<p> The next cell is a copy of the previous one. Modify it to print, say, the first 9 <em>cube</em> numbers </p>"
   ]
  },
  {
   "cell_type": "code",
   "execution_count": 5,
   "id": "2e38bb9f",
   "metadata": {
    "scrolled": false
   },
   "outputs": [
    {
     "name": "stdout",
     "output_type": "stream",
     "text": [
      "0\n",
      "1\n",
      "8\n",
      "27\n",
      "64\n",
      "125\n",
      "216\n",
      "343\n",
      "512\n"
     ]
    }
   ],
   "source": [
    "for i in range(9):\n",
    "    print (i**3)"
   ]
  },
  {
   "cell_type": "markdown",
   "id": "bce888ec",
   "metadata": {},
   "source": [
    "<h1> Prime of numbers</h1>\n",
    "<p> Let's now look at a function that checks whether a number is prime </p>"
   ]
  },
  {
   "cell_type": "code",
   "execution_count": 5,
   "id": "264e911e",
   "metadata": {},
   "outputs": [],
   "source": [
    "def is_prime_naive(n):\n",
    "    for i in range(2,n): # Note: range(n, m) ->, na+1, ..., m-1\n",
    "        if n % i ==0: # % is the modulo operation. \n",
    "            return False\n",
    "    return True"
   ]
  },
  {
   "cell_type": "markdown",
   "id": "9683174a",
   "metadata": {},
   "source": [
    "<p> Let's try it out by calling the function: </p>"
   ]
  },
  {
   "cell_type": "code",
   "execution_count": 6,
   "id": "02b1341d",
   "metadata": {},
   "outputs": [
    {
     "data": {
      "text/plain": [
       "(True, False)"
      ]
     },
     "execution_count": 6,
     "metadata": {},
     "output_type": "execute_result"
    }
   ],
   "source": [
    "is_prime_naive(2**19 - 1), is_prime_naive(1000000)"
   ]
  },
  {
   "cell_type": "markdown",
   "id": "65b9e8af",
   "metadata": {},
   "source": [
    "<p> Note that the notebook simply prints the value of the last expression in cell, we did not have to use <br> print.\n",
    "    \n",
    "To better understand the built-in <Strong>range</Strong> function, place the cursor on it the above cell and press <br>\"shift + Tab\" first once, and then a second time. This works for most functions. </p>"
   ]
  },
  {
   "cell_type": "markdown",
   "id": "5c8a2b55",
   "metadata": {},
   "source": [
    "<h1> NumPy Arrays </h1>\n",
    "\n",
    "<p> NumPy is the fundamental Python package for scientific computing. Let's start by covering what <br> NumPy arrays are, and their advantages versus Python lists and dictionaries. </p>"
   ]
  },
  {
   "cell_type": "code",
   "execution_count": 8,
   "id": "41fe01c1",
   "metadata": {},
   "outputs": [
    {
     "name": "stdout",
     "output_type": "stream",
     "text": [
      "[1 2 3]\n"
     ]
    }
   ],
   "source": [
    "#import NumPy (The Numerical Python package)\n",
    "import numpy as np\n",
    "# First we creat a list and then\n",
    "# wrap it with the np.array() function. \n",
    "alist = [1, 2, 3]\n",
    "# now convert to numpy array\n",
    "arr = np.array(alist)\n",
    "# Let's Print it\n",
    "print(arr)"
   ]
  },
  {
   "cell_type": "code",
   "execution_count": 9,
   "id": "1c220b6f",
   "metadata": {},
   "outputs": [
    {
     "name": "stdout",
     "output_type": "stream",
     "text": [
      "[0. 0. 0. 0. 0.]\n",
      "\n",
      "[0. 0. 0. 0. 0.]\n",
      "\n",
      "[10 11 12 13 14 15 16 17 18 19 20 21 22 23 24 25 26 27 28 29 30 31 32 33\n",
      " 34 35 36 37 38 39 40 41 42 43 44 45 46 47 48 49 50 51 52 53 54 55 56 57\n",
      " 58 59 60 61 62 63 64 65 66 67 68 69 70 71 72 73 74 75 76 77 78 79 80 81\n",
      " 82 83 84 85 86 87 88 89 90 91 92 93 94 95 96 97 98 99]\n",
      "\n"
     ]
    }
   ],
   "source": [
    "# Creating an array of zeros with five elements\n",
    "arr = np.zeros(5)\n",
    "print(arr)\n",
    "print()\n",
    "# What if we want to create an array going from 0 to 100? arr = np.arange(100)\n",
    "print(arr)\n",
    "print()\n",
    "# Or 10 to 100?\n",
    "arr = np.arange(10,100)\n",
    "print(arr)\n",
    "print()\n",
    "# If you want 100 steps from 0 to 1... arr = np.linspace(0, 1, 100) print(arr)"
   ]
  },
  {
   "cell_type": "markdown",
   "id": "76977446",
   "metadata": {},
   "source": [
    "<h3> Your turn! </h3>\n",
    "<p> The next cell is a copy of the previous one. Modify it to <Strong>print</Strong>, say, an array with 25 steps from 0 to 24... </p>"
   ]
  },
  {
   "cell_type": "code",
   "execution_count": 12,
   "id": "70e07531",
   "metadata": {},
   "outputs": [
    {
     "name": "stdout",
     "output_type": "stream",
     "text": [
      "[ 0.  1.  2.  3.  4.  5.  6.  7.  8.  9. 10. 11. 12. 13. 14. 15. 16. 17.\n",
      " 18. 19. 20. 21. 22. 23. 24.]\n"
     ]
    }
   ],
   "source": [
    "arr=np.linspace(0, 24, 25) \n",
    "print(arr)"
   ]
  },
  {
   "cell_type": "code",
   "execution_count": 14,
   "id": "0aff0ce4",
   "metadata": {},
   "outputs": [
    {
     "name": "stdout",
     "output_type": "stream",
     "text": [
      "[[0. 0. 0. 0. 0.]\n",
      " [0. 0. 0. 0. 0.]\n",
      " [0. 0. 0. 0. 0.]\n",
      " [0. 0. 0. 0. 0.]\n",
      " [0. 0. 0. 0. 0.]]\n"
     ]
    }
   ],
   "source": [
    "# Creating a 5x5 array of zeros (an image)\n",
    "image = np.zeros((5,5)) \n",
    "print(image)"
   ]
  },
  {
   "cell_type": "markdown",
   "id": "7ed68fdb",
   "metadata": {},
   "source": [
    "<h2> Note that Python, the two dimensional table 'image' could also have been create with the code: </h2>\n",
    "<p> image=[[0 for i in range(5)] for j in range(5)] </p>"
   ]
  },
  {
   "cell_type": "markdown",
   "id": "56a27730",
   "metadata": {},
   "source": [
    "<h1> Indexing and Slicing </h1>\n",
    "\n",
    "<p> Pyhton index lists begin at zero and the NumPy arrays follow suit. When indexing lists in Python, we normally do the following for a 2 x 2 object: </p>"
   ]
  },
  {
   "cell_type": "code",
   "execution_count": 17,
   "id": "55ee167b",
   "metadata": {},
   "outputs": [],
   "source": [
    "alist=[\n",
    "[1,2],\n",
    "[3,4] ]"
   ]
  },
  {
   "cell_type": "code",
   "execution_count": 18,
   "id": "01dbc62f",
   "metadata": {},
   "outputs": [
    {
     "data": {
      "text/plain": [
       "2"
      ]
     },
     "execution_count": 18,
     "metadata": {},
     "output_type": "execute_result"
    }
   ],
   "source": [
    "# To return the (0,1) element we must index as shown below.\n",
    "alist[0][1]"
   ]
  },
  {
   "cell_type": "code",
   "execution_count": 19,
   "id": "df1225a4",
   "metadata": {},
   "outputs": [
    {
     "name": "stdout",
     "output_type": "stream",
     "text": [
      "[2 4]\n"
     ]
    },
    {
     "data": {
      "text/plain": [
       "array([3, 4])"
      ]
     },
     "execution_count": 19,
     "metadata": {},
     "output_type": "execute_result"
    }
   ],
   "source": [
    "#In NumPy, indexing follows a more convenient syntax. # Converting the list defined above into an array\n",
    "arr = np.array(alist)\n",
    "# To return the (0,1) element we use...\n",
    "arr[0,1]\n",
    "# Now to acces the last column, we simply use... \n",
    "print(arr[:,1])\n",
    "# Accessing the rows is achieved in the same way, \n",
    "arr[1,:]\n",
    "# which is the bottom row."
   ]
  },
  {
   "cell_type": "markdown",
   "id": "00dd5c7f",
   "metadata": {},
   "source": [
    "<h1> Math </h1>\n",
    "<p> <em>Python comes with its own math module that works on Python native objects. Unfortunately, if you <br>try to use math.cos on a NumPy array, it will not work, as the math functions are meant to operate <br>on elements and not on lists or arrays. Hence, NumPy comes with its own set of math tools. These <br>are optimized to work with NumPy array objects and operate at fast speeds. When importing <br>NumPy, most of the math tools are automatically included, from simple trigonometric and <br>logarithmic functions to the more complex, such as fast Fourier transform (FFT) and linear algebraic <br> operations.</em></p>\n",
    "\n",
    "<h1> Linear Algebra </h1>\n",
    "<p> <em>NumPy arrays do not behave like matrices in linear algebra by default. Instead, the operations are <br>mapped from each element in one array onto the next. This is quite a useful feature, as loop <br>operations can be done away with for efficiency. But what about when transposing or a dot <br>multiplication are needed? Without invoking other classes, you can use the built-in numpy.dot and <br>numpy.transpose to do such operations. The syntax is Pythonic, so it is intuitive to program. Or the <br> math purist can use the numpy.matrix object instead. We will go over both examples below to <br> illustratethe differences and similarities between the two options. More importantly, we will compare <br>some of the advantages and disadvantages between the numpy.array and the numpy.matrix objects\n",
    "    \n",
    "Some operations are easy and quick to do in linear algebra. A classic example is solving a system <br>of equations that we can express in matrix form:</em> </p>\n",
    "\n",
    "<img src = \"images/LinearAlgebra.PNG\" width=600; height=600>\n",
    "\n",
    "<p> <em>Now let us represent the matrix system as AX = B, and solve for the variables. This means we <br> should try to obtain X = A(-1)B. Here is how we would do this with NumPy.</em></p>"
   ]
  },
  {
   "cell_type": "code",
   "execution_count": 24,
   "id": "b1c8c08b",
   "metadata": {},
   "outputs": [
    {
     "name": "stdout",
     "output_type": "stream",
     "text": [
      "[[1.75]\n",
      " [1.75]\n",
      " [0.75]]\n"
     ]
    }
   ],
   "source": [
    "import numpy as np\n",
    "# Defining the matrices\n",
    "A = np.matrix([[3, 6, -5],\n",
    "[1, -3, 2],\n",
    "[5, -1, 4]])\n",
    "B = np.matrix([[12],\n",
    "[-2],\n",
    "[10]])\n",
    "# Solving for the variables, where we invert A \n",
    "X = A ** (-1) * B\n",
    "print(X)"
   ]
  },
  {
   "cell_type": "markdown",
   "id": "10c71e6b",
   "metadata": {},
   "source": [
    "<h3> Your Turn!</h3>\n",
    "<p> The solutions for the variables are x = 1.75, y = 1.75, and z = 0.75. You can easily check this by executing AX, which should produce the same elements defined in B. <em><Strong>Do it!</Strong></em> </p>"
   ]
  },
  {
   "cell_type": "markdown",
   "id": "7753da7a",
   "metadata": {},
   "source": [
    "<center>\n",
    "<h2 style = \"color:Orange\" \"align=center\" ;> Show you work in the cell below </h2>\n",
    "</center>"
   ]
  },
  {
   "cell_type": "code",
   "execution_count": 53,
   "id": "cbd89c73",
   "metadata": {},
   "outputs": [
    {
     "data": {
      "text/plain": [
       "matrix([[12.],\n",
       "        [-2.],\n",
       "        [10.]])"
      ]
     },
     "execution_count": 53,
     "metadata": {},
     "output_type": "execute_result"
    }
   ],
   "source": [
    "A*X"
   ]
  },
  {
   "cell_type": "markdown",
   "id": "7f5c4a3e",
   "metadata": {},
   "source": [
    "<h2> Another Way </h2>\n",
    "<p> Now that we understand how NumPy matrices work, we can show how to do the same operations <br>without specifically using the numpy.matrix subclass. (The numpy.matrix subclass is contained<br> within the numpy.array class, which means that we can do the same example as that above without <br>directly invoking the numpy.matrix class.) </p>"
   ]
  },
  {
   "cell_type": "code",
   "execution_count": 54,
   "id": "a8439301",
   "metadata": {},
   "outputs": [
    {
     "name": "stdout",
     "output_type": "stream",
     "text": [
      "[1.75 1.75 0.75]\n"
     ]
    }
   ],
   "source": [
    "import numpy as np\n",
    "a=np.array([[3, 6, -5],\n",
    "[1, -3, 2],\n",
    "[5, -1,4]])\n",
    "# Defining the array\n",
    "b = np.array([12,-2, 10])\n",
    "# Solving for the variables, where we invert A \n",
    "x = np.linalg.inv(a).dot(b)\n",
    "print(x)"
   ]
  },
  {
   "cell_type": "markdown",
   "id": "fa8a5477",
   "metadata": {},
   "source": [
    "<h1> Using MatPlotLib </h1>\n",
    "<p> The matplotlib package is the standard way to plot data in Python. To use MatPlotLib in our<br> notebook we have to use the <em>magic command</em></p>"
   ]
  },
  {
   "cell_type": "code",
   "execution_count": 55,
   "id": "cede07b0",
   "metadata": {},
   "outputs": [],
   "source": [
    "# allow plots to apprear within the notebook\n",
    "%matplotlib inline\n",
    "# import MatPlotlib (scientific plottting library) \n",
    "import matplotlib.pyplot as plt"
   ]
  },
  {
   "cell_type": "markdown",
   "id": "01bc9821",
   "metadata": {},
   "source": [
    "<h3> Let's use <em>list</em> comprehensions to create data for a simple plot </h3>"
   ]
  },
  {
   "cell_type": "code",
   "execution_count": 56,
   "id": "554c0b29",
   "metadata": {},
   "outputs": [
    {
     "data": {
      "image/png": "[encoded data removed]",
      "text/plain": [
       "<Figure size 400x400 with 1 Axes>"
      ]
     },
     "metadata": {},
     "output_type": "display_data"
    }
   ],
   "source": [
    "import math\n",
    "x_data = [0.05*x for x in range(101)]\n",
    "y_data = [5*math.sin(2*math.pi*x) for x in x_data] \n",
    "fig = plt.figure(figsize=(4,4)) \n",
    "plt.plot(x_data,y_data,'g--')\n",
    "plt.show()\n",
    "fig.savefig('Images/sine_wave444.pdf', dpi=300)"
   ]
  },
  {
   "cell_type": "markdown",
   "id": "f9e5355a",
   "metadata": {},
   "source": [
    "<h3>Let's do the same thing with <em>numpy</em></h3>"
   ]
  },
  {
   "cell_type": "code",
   "execution_count": 57,
   "id": "f62ba064",
   "metadata": {},
   "outputs": [
    {
     "data": {
      "image/png": "[encoded data removed]",
      "text/plain": [
       "<Figure size 400x400 with 1 Axes>"
      ]
     },
     "metadata": {},
     "output_type": "display_data"
    }
   ],
   "source": [
    "# generate x-y data\n",
    "x = np.linspace(0,5,100)\n",
    "y = 5*np.sin(2*np.pi*x)\n",
    "# ser the plot size\n",
    "fig = plt.figure(figsize=(4,4)) # plot data and show the plot \n",
    "plt.plot(x,y)\n",
    "plt.show()"
   ]
  },
  {
   "cell_type": "markdown",
   "id": "b5b933d8",
   "metadata": {},
   "source": [
    "<p> Note that the <Strong>NumPy</Strong> arrays can be passed to <Strong>MatPlotLib</Strong> and that <em>NumPy</em> has its own built in math<br> functions! We continure exploring these and other packages using <Strong>Jupyter Notebook</Strong> for the rest of<br> the semester!</p>"
   ]
  },
  {
   "cell_type": "markdown",
   "id": "0996cc0f",
   "metadata": {},
   "source": [
    "<h1> Pandas: Python Data Analysis Library </h1>\n",
    "<p> Pandas is library that provides high-performance, easy-to-use data structures and data analysis <br> tools for the Python programming language </p>\n",
    "\n",
    "<h2> Descriptive Statistics and Pandas Dataframe </h2>"
   ]
  },
  {
   "cell_type": "code",
   "execution_count": 58,
   "id": "d06dc83a",
   "metadata": {},
   "outputs": [],
   "source": [
    "import pandas as pd"
   ]
  },
  {
   "cell_type": "markdown",
   "id": "569c0e42",
   "metadata": {},
   "source": [
    "<p>Pandas introduces an object called a <Strong>DataFrame</Strong>. A <Strong>DataFrame</Strong> is a tabular data structure <br> compresed of rows and columns, like those in a spreadsheet or a database table. <br> \n",
    "    \n",
    "Let's create some data to use in this tutorial.\n",
    "</p>"
   ]
  },
  {
   "cell_type": "code",
   "execution_count": 62,
   "id": "35fc8d33",
   "metadata": {},
   "outputs": [
    {
     "data": {
      "text/html": [
       "<div>\n",
       "<style scoped>\n",
       "    .dataframe tbody tr th:only-of-type {\n",
       "        vertical-align: middle;\n",
       "    }\n",
       "\n",
       "    .dataframe tbody tr th {\n",
       "        vertical-align: top;\n",
       "    }\n",
       "\n",
       "    .dataframe thead th {\n",
       "        text-align: right;\n",
       "    }\n",
       "</style>\n",
       "<table border=\"1\" class=\"dataframe\">\n",
       "  <thead>\n",
       "    <tr style=\"text-align: right;\">\n",
       "      <th></th>\n",
       "      <th>name</th>\n",
       "      <th>age</th>\n",
       "      <th>preTestScore</th>\n",
       "      <th>postTestScore</th>\n",
       "    </tr>\n",
       "  </thead>\n",
       "  <tbody>\n",
       "    <tr>\n",
       "      <th>0</th>\n",
       "      <td>Jason</td>\n",
       "      <td>20</td>\n",
       "      <td>70</td>\n",
       "      <td>70</td>\n",
       "    </tr>\n",
       "    <tr>\n",
       "      <th>1</th>\n",
       "      <td>Molly</td>\n",
       "      <td>21</td>\n",
       "      <td>70</td>\n",
       "      <td>82</td>\n",
       "    </tr>\n",
       "    <tr>\n",
       "      <th>2</th>\n",
       "      <td>Tine</td>\n",
       "      <td>24</td>\n",
       "      <td>67</td>\n",
       "      <td>69</td>\n",
       "    </tr>\n",
       "    <tr>\n",
       "      <th>3</th>\n",
       "      <td>Jake</td>\n",
       "      <td>27</td>\n",
       "      <td>68</td>\n",
       "      <td>74</td>\n",
       "    </tr>\n",
       "    <tr>\n",
       "      <th>4</th>\n",
       "      <td>Amy</td>\n",
       "      <td>33</td>\n",
       "      <td>78</td>\n",
       "      <td>86</td>\n",
       "    </tr>\n",
       "  </tbody>\n",
       "</table>\n",
       "</div>"
      ],
      "text/plain": [
       "    name  age  preTestScore  postTestScore\n",
       "0  Jason   20            70             70\n",
       "1  Molly   21            70             82\n",
       "2   Tine   24            67             69\n",
       "3   Jake   27            68             74\n",
       "4    Amy   33            78             86"
      ]
     },
     "execution_count": 62,
     "metadata": {},
     "output_type": "execute_result"
    }
   ],
   "source": [
    "data = {'name': ['Jason', 'Molly', 'Tine', 'Jake', 'Amy'], \n",
    "    'age': [20, 21, 24, 27, 33],\n",
    "    'preTestScore': [70, 70, 67, 68, 78],\n",
    "    'postTestScore': [70, 82, 69, 74, 86]}\n",
    "df = pd.DataFrame(data, columns = ['name', 'age', 'preTestScore', 'postTestScore']) \n",
    "df"
   ]
  },
  {
   "cell_type": "markdown",
   "id": "6209c75c",
   "metadata": {},
   "source": [
    "<h3> 5 rows x 4 columns </h3>"
   ]
  },
  {
   "cell_type": "markdown",
   "id": "9ff20ca5",
   "metadata": {},
   "source": [
    "<h2>The sum of all the ages</h2>"
   ]
  },
  {
   "cell_type": "code",
   "execution_count": 63,
   "id": "60365707",
   "metadata": {},
   "outputs": [
    {
     "data": {
      "text/plain": [
       "125"
      ]
     },
     "execution_count": 63,
     "metadata": {},
     "output_type": "execute_result"
    }
   ],
   "source": [
    "df['age'].sum()"
   ]
  },
  {
   "cell_type": "markdown",
   "id": "8716f251",
   "metadata": {},
   "source": [
    "<h2> Mean preTestScore</h2>"
   ]
  },
  {
   "cell_type": "code",
   "execution_count": 64,
   "id": "8d8f9cb5",
   "metadata": {},
   "outputs": [
    {
     "data": {
      "text/plain": [
       "70.6"
      ]
     },
     "execution_count": 64,
     "metadata": {},
     "output_type": "execute_result"
    }
   ],
   "source": [
    "df['preTestScore'].mean()"
   ]
  },
  {
   "cell_type": "markdown",
   "id": "869d1218",
   "metadata": {},
   "source": [
    "<h2>Cumulative sum of preTestScores, moving from the rows from the <br>top</h2>"
   ]
  },
  {
   "cell_type": "code",
   "execution_count": 65,
   "id": "ec211763",
   "metadata": {},
   "outputs": [
    {
     "data": {
      "text/plain": [
       "0     70\n",
       "1    140\n",
       "2    207\n",
       "3    275\n",
       "4    353\n",
       "Name: preTestScore, dtype: int64"
      ]
     },
     "execution_count": 65,
     "metadata": {},
     "output_type": "execute_result"
    }
   ],
   "source": [
    "df['preTestScore'].cumsum()"
   ]
  },
  {
   "cell_type": "markdown",
   "id": "da3477a9",
   "metadata": {},
   "source": [
    "<h2> Minimum value of preTestScore </h2>"
   ]
  },
  {
   "cell_type": "code",
   "execution_count": 66,
   "id": "cfd0a822",
   "metadata": {},
   "outputs": [
    {
     "data": {
      "text/plain": [
       "67"
      ]
     },
     "execution_count": 66,
     "metadata": {},
     "output_type": "execute_result"
    }
   ],
   "source": [
    "df['preTestScore'].min()"
   ]
  },
  {
   "cell_type": "markdown",
   "id": "0a6e587e",
   "metadata": {},
   "source": [
    "<h2>Maximum value of preTestScore</h2>"
   ]
  },
  {
   "cell_type": "code",
   "execution_count": 67,
   "id": "102570e2",
   "metadata": {},
   "outputs": [
    {
     "data": {
      "text/plain": [
       "78"
      ]
     },
     "execution_count": 67,
     "metadata": {},
     "output_type": "execute_result"
    }
   ],
   "source": [
    "df['preTestScore'].max()"
   ]
  },
  {
   "cell_type": "markdown",
   "id": "bd2a3165",
   "metadata": {},
   "source": [
    "<h2>Median value of preTestScore </h2>"
   ]
  },
  {
   "cell_type": "code",
   "execution_count": 68,
   "id": "762eb712",
   "metadata": {},
   "outputs": [
    {
     "data": {
      "text/plain": [
       "70.0"
      ]
     },
     "execution_count": 68,
     "metadata": {},
     "output_type": "execute_result"
    }
   ],
   "source": [
    "df['preTestScore'].median()"
   ]
  },
  {
   "cell_type": "markdown",
   "id": "c5a3d521",
   "metadata": {},
   "source": [
    "<h2>Sample variance of preTestScore Values</h2>"
   ]
  },
  {
   "cell_type": "code",
   "execution_count": 69,
   "id": "87d0140d",
   "metadata": {},
   "outputs": [
    {
     "data": {
      "text/plain": [
       "18.8"
      ]
     },
     "execution_count": 69,
     "metadata": {},
     "output_type": "execute_result"
    }
   ],
   "source": [
    "df['preTestScore'].var()"
   ]
  },
  {
   "cell_type": "markdown",
   "id": "78accf4b",
   "metadata": {},
   "source": [
    "<h2>Sample standard deviation of preTestScore values</h2>"
   ]
  },
  {
   "cell_type": "code",
   "execution_count": 70,
   "id": "2038b333",
   "metadata": {},
   "outputs": [
    {
     "data": {
      "text/plain": [
       "4.33589667773576"
      ]
     },
     "execution_count": 70,
     "metadata": {},
     "output_type": "execute_result"
    }
   ],
   "source": [
    "df['preTestScore'].std()"
   ]
  },
  {
   "cell_type": "markdown",
   "id": "34a8f69d",
   "metadata": {},
   "source": [
    "<h2>Skewness of preTestScore values</h2>"
   ]
  },
  {
   "cell_type": "code",
   "execution_count": 71,
   "id": "1f832028",
   "metadata": {},
   "outputs": [
    {
     "data": {
      "text/plain": [
       "1.7407869470651502"
      ]
     },
     "execution_count": 71,
     "metadata": {},
     "output_type": "execute_result"
    }
   ],
   "source": [
    "df['preTestScore'].skew()"
   ]
  },
  {
   "cell_type": "markdown",
   "id": "51814d1e",
   "metadata": {},
   "source": [
    "<h2>Kurtosis of preTestScore values</h2>"
   ]
  },
  {
   "cell_type": "code",
   "execution_count": 72,
   "id": "e8715925",
   "metadata": {},
   "outputs": [
    {
     "data": {
      "text/plain": [
       "3.3618153010412204"
      ]
     },
     "execution_count": 72,
     "metadata": {},
     "output_type": "execute_result"
    }
   ],
   "source": [
    "df['preTestScore'].kurt()"
   ]
  },
  {
   "cell_type": "markdown",
   "id": "73925900",
   "metadata": {},
   "source": [
    "<h2>Correlation Matrix Of values</h2>"
   ]
  },
  {
   "cell_type": "code",
   "execution_count": 73,
   "id": "11f50128",
   "metadata": {},
   "outputs": [
    {
     "data": {
      "text/html": [
       "<div>\n",
       "<style scoped>\n",
       "    .dataframe tbody tr th:only-of-type {\n",
       "        vertical-align: middle;\n",
       "    }\n",
       "\n",
       "    .dataframe tbody tr th {\n",
       "        vertical-align: top;\n",
       "    }\n",
       "\n",
       "    .dataframe thead th {\n",
       "        text-align: right;\n",
       "    }\n",
       "</style>\n",
       "<table border=\"1\" class=\"dataframe\">\n",
       "  <thead>\n",
       "    <tr style=\"text-align: right;\">\n",
       "      <th></th>\n",
       "      <th>age</th>\n",
       "      <th>preTestScore</th>\n",
       "      <th>postTestScore</th>\n",
       "    </tr>\n",
       "  </thead>\n",
       "  <tbody>\n",
       "    <tr>\n",
       "      <th>age</th>\n",
       "      <td>1.000000</td>\n",
       "      <td>0.692684</td>\n",
       "      <td>0.565973</td>\n",
       "    </tr>\n",
       "    <tr>\n",
       "      <th>preTestScore</th>\n",
       "      <td>0.692684</td>\n",
       "      <td>1.000000</td>\n",
       "      <td>0.802959</td>\n",
       "    </tr>\n",
       "    <tr>\n",
       "      <th>postTestScore</th>\n",
       "      <td>0.565973</td>\n",
       "      <td>0.802959</td>\n",
       "      <td>1.000000</td>\n",
       "    </tr>\n",
       "  </tbody>\n",
       "</table>\n",
       "</div>"
      ],
      "text/plain": [
       "                    age  preTestScore  postTestScore\n",
       "age            1.000000      0.692684       0.565973\n",
       "preTestScore   0.692684      1.000000       0.802959\n",
       "postTestScore  0.565973      0.802959       1.000000"
      ]
     },
     "execution_count": 73,
     "metadata": {},
     "output_type": "execute_result"
    }
   ],
   "source": [
    "df.corr()"
   ]
  },
  {
   "cell_type": "markdown",
   "id": "6cf001bc",
   "metadata": {},
   "source": [
    "<h3> 3 rows x 3 columns </h3>"
   ]
  },
  {
   "cell_type": "markdown",
   "id": "5819a4f5",
   "metadata": {},
   "source": [
    "<h2>Covariance Matrix Of values</h2>"
   ]
  },
  {
   "cell_type": "code",
   "execution_count": 74,
   "id": "00338aac",
   "metadata": {},
   "outputs": [
    {
     "data": {
      "text/html": [
       "<div>\n",
       "<style scoped>\n",
       "    .dataframe tbody tr th:only-of-type {\n",
       "        vertical-align: middle;\n",
       "    }\n",
       "\n",
       "    .dataframe tbody tr th {\n",
       "        vertical-align: top;\n",
       "    }\n",
       "\n",
       "    .dataframe thead th {\n",
       "        text-align: right;\n",
       "    }\n",
       "</style>\n",
       "<table border=\"1\" class=\"dataframe\">\n",
       "  <thead>\n",
       "    <tr style=\"text-align: right;\">\n",
       "      <th></th>\n",
       "      <th>age</th>\n",
       "      <th>preTestScore</th>\n",
       "      <th>postTestScore</th>\n",
       "    </tr>\n",
       "  </thead>\n",
       "  <tbody>\n",
       "    <tr>\n",
       "      <th>age</th>\n",
       "      <td>27.50</td>\n",
       "      <td>15.75</td>\n",
       "      <td>22.25</td>\n",
       "    </tr>\n",
       "    <tr>\n",
       "      <th>preTestScore</th>\n",
       "      <td>15.75</td>\n",
       "      <td>18.80</td>\n",
       "      <td>26.10</td>\n",
       "    </tr>\n",
       "    <tr>\n",
       "      <th>postTestScore</th>\n",
       "      <td>22.25</td>\n",
       "      <td>26.10</td>\n",
       "      <td>56.20</td>\n",
       "    </tr>\n",
       "  </tbody>\n",
       "</table>\n",
       "</div>"
      ],
      "text/plain": [
       "                 age  preTestScore  postTestScore\n",
       "age            27.50         15.75          22.25\n",
       "preTestScore   15.75         18.80          26.10\n",
       "postTestScore  22.25         26.10          56.20"
      ]
     },
     "execution_count": 74,
     "metadata": {},
     "output_type": "execute_result"
    }
   ],
   "source": [
    "df.cov()"
   ]
  },
  {
   "cell_type": "markdown",
   "id": "f42d69df",
   "metadata": {},
   "source": [
    "<h3> 3 rows x 3 columns </h3>"
   ]
  },
  {
   "cell_type": "markdown",
   "id": "fec5d8c9",
   "metadata": {},
   "source": [
    "<h3> Let's do a barchart plot of age versus postTestScore </h3>"
   ]
  },
  {
   "cell_type": "code",
   "execution_count": 76,
   "id": "3bef14aa",
   "metadata": {},
   "outputs": [
    {
     "data": {
      "image/png": "[encoded data removed]",
      "text/plain": [
       "<Figure size 400x400 with 1 Axes>"
      ]
     },
     "metadata": {},
     "output_type": "display_data"
    }
   ],
   "source": [
    "fig=plt.figure(figsize=(4,4))\n",
    "# plot data and show the plot plt.xlabel('Age')\n",
    "plt.ylabel('Post Test Score') \n",
    "plt.title('Age vs. Score on Post-Test') \n",
    "plt.bar(df['age'],df['postTestScore']) \n",
    "plt.show()"
   ]
  },
  {
   "cell_type": "markdown",
   "id": "9c5dfef3",
   "metadata": {},
   "source": [
    "<center>\n",
    "<h1 style = \"color:red\" \"align=center\" ;> Horray for Jupyter Notebook! </h1>\n",
    "</center>"
   ]
  },
  {
   "cell_type": "code",
   "execution_count": null,
   "id": "da0bb0ae",
   "metadata": {},
   "outputs": [],
   "source": []
  }
 ],
 "metadata": {
  "kernelspec": {
   "display_name": "Python 3 (ipykernel)",
   "language": "python",
   "name": "python3"
  },
  "language_info": {
   "codemirror_mode": {
    "name": "ipython",
    "version": 3
   },
   "file_extension": ".py",
   "mimetype": "text/x-python",
   "name": "python",
   "nbconvert_exporter": "python",
   "pygments_lexer": "ipython3",
   "version": "3.9.13"
  }
 },
 "nbformat": 4,
 "nbformat_minor": 5
}
